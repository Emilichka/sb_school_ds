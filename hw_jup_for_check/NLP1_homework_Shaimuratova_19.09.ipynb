{
  "cells": [
    {
      "cell_type": "markdown",
      "metadata": {
        "id": "dH7qx_irU4Y8"
      },
      "source": [
        "\n"
      ]
    },
    {
      "cell_type": "code",
      "execution_count": 4,
      "metadata": {},
      "outputs": [
        {
          "data": {
            "text/plain": [
              "'(okokok)'"
            ]
          },
          "execution_count": 4,
          "metadata": {},
          "output_type": "execute_result"
        }
      ],
      "source": [
        "###ML1_1:\n",
        "#https://www.hackerrank.com/challenges/capturing-non-capturing-groups/problem?isFullScreen=true\n",
        "\n",
        "'(okokok)'"
      ]
    },
    {
      "cell_type": "code",
      "execution_count": 2,
      "metadata": {
        "id": "xJfkstKpqsXp"
      },
      "outputs": [
        {
          "data": {
            "text/plain": [
              "'^\\\\d{2}((---)|(-)|(.)|(:))\\\\d{2}\\x01\\\\d{2}\\x01\\\\d{2}$'"
            ]
          },
          "execution_count": 2,
          "metadata": {},
          "output_type": "execute_result"
        }
      ],
      "source": [
        "###ML1_2:\n",
        "# https://www.hackerrank.com/challenges/branch-reset-groups/problem?isFullScreen=true\n",
        "\n",
        "#повторяющийся паттерн - ((---)|(-)|(.)|(:)), перчесляем в строке через \\1\n",
        "\n",
        "'^\\d{2}((---)|(-)|(.)|(:))\\d{2}\\1\\d{2}\\1\\d{2}$'\n"
      ]
    },
    {
      "cell_type": "code",
      "execution_count": null,
      "metadata": {},
      "outputs": [],
      "source": [
        "\n",
        "###ML1_3:\n",
        "# https://www.hackerrank.com/challenges/detect-html-links/problem?isFullScreen=true"
      ]
    },
    {
      "cell_type": "code",
      "execution_count": null,
      "metadata": {},
      "outputs": [],
      "source": [
        "# <p><a href=\"http://www.quackit.com/html/tutorial/html_links.cfm\">Example Link</a></p>\n",
        "# <div class=\"more-info\"><a href=\"http://www.quackit.com/html/examples/html_links_examples.cfm\">More Link Examples...</a></div>\n"
      ]
    },
    {
      "cell_type": "code",
      "execution_count": null,
      "metadata": {},
      "outputs": [],
      "source": [
        "# <p><a href=\"http://www.quackit.com/html/tutorial/html_links.cfm\">Example Link</a></p>\n",
        "# <div class=\"more-info\"><a href=\"http://www.quackit.com/html/examples/html_links_examples.cfm\">More Link Examples...</a></div>\n",
        "# Sample Input:2\n",
        "# 13\n",
        "# <div class=\"portal\" role=\"navigation\" id='p-navigation'>\n",
        "# <h3>Navigation</h3>\n",
        "# <div class=\"body\">\n",
        "# <ul>\n",
        "#  <li id=\"n-mainpage-description\"><a href=\"/wiki/Main_Page\" title=\"Visit the main page [z]\" accesskey=\"z\">Main page</a></li>\n",
        "#  <li id=\"n-contents\"><a href=\"/wiki/Portal:Contents\" title=\"Guides to browsing Wikipedia\">Contents</a></li>\n",
        "#  <li id=\"n-featuredcontent\"><a href=\"/wiki/Portal:Featured_content\" title=\"Featured content  the best of Wikipedia\">Featured content</a></li>\n",
        "# <li id=\"n-currentevents\"><a href=\"/wiki/Portal:Current_events\" title=\"Find background information on current events\">Current events</a></li>\n",
        "# <li id=\"n-randompage\"><a href=\"/wiki/Special:Random\" title=\"Load a random article [x]\" accesskey=\"x\">Random article</a></li>\n",
        "# <li id=\"n-sitesupport\"><a href=\"//donate.wikimedia.org/wiki/Special:FundraiserRedirector?utm_source=donate&utm_medium=sidebar&utm_campaign=C13_en.wikipedia.org&uselang=en\" title=\"Support us\">Donate to Wikipedia</a></li>\n",
        "# </ul>\n",
        "# </div>\n",
        "# </div>"
      ]
    },
    {
      "cell_type": "code",
      "execution_count": null,
      "metadata": {},
      "outputs": [],
      "source": [
        "import re\n",
        "\n",
        "pattern = r'<a\\ (?:.?\\ )?href=\\\"((?:http)?.+?)\\\"(?:.+?)?>\\ ?([^<>]*?)?\\ ?(?:</b>)?</a'\n",
        "\n",
        "seq = re.compile(pattern)\n",
        "\n",
        "k = int(input())\n",
        "\n",
        "for _ in range(k):\n",
        "     links = seq.findall(input())\n",
        "     for i in links:\n",
        "          print(','.join(i))"
      ]
    },
    {
      "cell_type": "markdown",
      "metadata": {},
      "source": [
        "task Реализовать stemming, lemmatization & BoW на следующем датасете: https://cloud.mail.ru/public/Z4L3/vB8GcgTtK (Russian Toxic-abuse comments)\n",
        "\n",
        "Выполнен в файле со следующим ДЗ\n"
      ]
    },
    {
      "cell_type": "markdown",
      "metadata": {},
      "source": []
    }
  ],
  "metadata": {
    "colab": {
      "name": "NLP1_homework",
      "provenance": [],
      "toc_visible": true
    },
    "kernelspec": {
      "display_name": "Python 3",
      "name": "python3"
    },
    "language_info": {
      "codemirror_mode": {
        "name": "ipython",
        "version": 3
      },
      "file_extension": ".py",
      "mimetype": "text/x-python",
      "name": "python",
      "nbconvert_exporter": "python",
      "pygments_lexer": "ipython3",
      "version": "3.10.13"
    }
  },
  "nbformat": 4,
  "nbformat_minor": 0
}
